{
 "cells": [
  {
   "cell_type": "code",
   "execution_count": 8,
   "id": "469baf3b",
   "metadata": {},
   "outputs": [],
   "source": [
    "import os\n",
    "import sys\n",
    "from pathlib import Path\n",
    "from PIL import Image\n",
    "from tqdm.notebook import tqdm\n",
    "from imantics import Polygons, Mask, Category, Annotation\n",
    "from IPython.display import Image\n",
    "import numpy as np\n",
    "from pprint import pprint"
   ]
  },
  {
   "cell_type": "code",
   "execution_count": 2,
   "id": "a03148fa",
   "metadata": {},
   "outputs": [],
   "source": [
    "from datalake.searcher import Searcher\n",
    "from datalake.credentials import load_credentials, save_credentials"
   ]
  },
  {
   "cell_type": "code",
   "execution_count": 3,
   "id": "ef1be58e",
   "metadata": {},
   "outputs": [],
   "source": [
    "searcher = Searcher(**load_credentials())"
   ]
  },
  {
   "cell_type": "code",
   "execution_count": 4,
   "id": "ee6b9a7c",
   "metadata": {},
   "outputs": [],
   "source": [
    "datasets = searcher.dataset_list()"
   ]
  },
  {
   "cell_type": "code",
   "execution_count": 5,
   "id": "ae6f09b4",
   "metadata": {},
   "outputs": [
    {
     "data": {
      "text/plain": [
       "Dataset#Prequel-test-set-9c7f6c(images=9871, annotations=10018, public=True, indexed=9867)"
      ]
     },
     "execution_count": 5,
     "metadata": {},
     "output_type": "execute_result"
    }
   ],
   "source": [
    "dataset = datasets[0]\n",
    "dataset"
   ]
  },
  {
   "cell_type": "code",
   "execution_count": 6,
   "id": "17bb4c44",
   "metadata": {},
   "outputs": [],
   "source": [
    "data = dataset.retrieve(page=0)"
   ]
  },
  {
   "cell_type": "code",
   "execution_count": 12,
   "id": "472e1cbe",
   "metadata": {},
   "outputs": [
    {
     "name": "stdout",
     "output_type": "stream",
     "text": [
      "Count: 10\n",
      "Example: \n",
      "{'_id': '64e7ba04f627d39aeabd05b1',\n",
      " 'annotations': [{'name': 'a close up of a doll wearing a green dress and '\n",
      "                          'bonnet',\n",
      "                  'type': 'Text'}],\n",
      " 'dataset_id': '64e7a85725db293f849c7f6c',\n",
      " 'image_url': 'https://i.pinimg.com/736x/c0/7f/07/c07f074aa2a716c9c7b38f43849f1e60.jpg'}\n"
     ]
    }
   ],
   "source": [
    "print(f\"Count: {len(data)}\")\n",
    "print(\"Example: \")\n",
    "pprint(data[0])"
   ]
  },
  {
   "cell_type": "code",
   "execution_count": null,
   "id": "3062f13a",
   "metadata": {},
   "outputs": [],
   "source": []
  }
 ],
 "metadata": {
  "kernelspec": {
   "display_name": "Python 3 (ipykernel)",
   "language": "python",
   "name": "python3"
  },
  "language_info": {
   "codemirror_mode": {
    "name": "ipython",
    "version": 3
   },
   "file_extension": ".py",
   "mimetype": "text/x-python",
   "name": "python",
   "nbconvert_exporter": "python",
   "pygments_lexer": "ipython3",
   "version": "3.7.13"
  }
 },
 "nbformat": 4,
 "nbformat_minor": 5
}
