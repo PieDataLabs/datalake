{
 "cells": [
  {
   "cell_type": "code",
   "execution_count": 8,
   "id": "a6c346d9-ed29-4e38-8301-20f26c62ece9",
   "metadata": {},
   "outputs": [],
   "source": [
    "import os\n",
    "from pathlib import Path\n",
    "from PIL import Image\n",
    "from tqdm.notebook import tqdm\n",
    "from imantics import Polygons, Mask, Category, Annotation\n",
    "from PIL import Image\n",
    "from IPython.display import Image as DisplayImage"
   ]
  },
  {
   "cell_type": "code",
   "execution_count": 2,
   "id": "3dee3bac-8e4c-4f2f-a8be-316a5bdfc099",
   "metadata": {},
   "outputs": [],
   "source": [
    "cvat_url = \"http://###.###.###.###:8080/tasks/752/jobs/4248\"\n",
    "cvat_credentials=('#######', '#######')"
   ]
  },
  {
   "cell_type": "code",
   "execution_count": 3,
   "id": "18055e6b-a79a-4ba7-b42d-59513a5580f3",
   "metadata": {},
   "outputs": [],
   "source": [
    "from datalake.dataset import Dataset\n",
    "from datalake.searcher import Searcher\n",
    "from datalake.credentials import load_credentials, save_credentials"
   ]
  },
  {
   "cell_type": "code",
   "execution_count": 4,
   "id": "808c383a-ac3a-4523-aefe-42d17f2f3436",
   "metadata": {},
   "outputs": [],
   "source": [
    "searcher = Searcher(**load_credentials())"
   ]
  },
  {
   "cell_type": "code",
   "execution_count": 5,
   "id": "cf95e31d-d5bf-4448-bd65-a599c37ad0d2",
   "metadata": {},
   "outputs": [
    {
     "name": "stderr",
     "output_type": "stream",
     "text": [
      "10it [00:14,  1.41s/it]\n"
     ]
    }
   ],
   "source": [
    "ds = Dataset.from_cvat(searcher, \n",
    "                       cvat_url=cvat_url, \n",
    "                       credentials=cvat_credentials,\n",
    "                       name=\"tongue\")"
   ]
  },
  {
   "cell_type": "code",
   "execution_count": 9,
   "id": "03b2a90a-63f0-4be7-9cbc-d7bf575170a5",
   "metadata": {},
   "outputs": [
    {
     "name": "stdout",
     "output_type": "stream",
     "text": [
      "{'_id': '65062b426a5e93f627c24cd4', 'annotations': [], 'dataset_id': '65062b3ec422755cf9993f19', 'image_url': 'https://datalake-piedata.s3.us-west-1.amazonaws.com/22088b890851bc6b82baa40a8d5687b7'}\n"
     ]
    },
    {
     "data": {
      "text/html": [
       "<img src=\"https://datalake-piedata.s3.us-west-1.amazonaws.com/22088b890851bc6b82baa40a8d5687b7\" width=\"220\" height=\"320\"/>"
      ],
      "text/plain": [
       "<IPython.core.display.Image object>"
      ]
     },
     "execution_count": 9,
     "metadata": {},
     "output_type": "execute_result"
    }
   ],
   "source": [
    "obj = ds[0]\n",
    "print(obj)\n",
    "\n",
    "DisplayImage(url=obj[\"image_url\"], height=320, width=220)"
   ]
  },
  {
   "cell_type": "code",
   "execution_count": null,
   "id": "b226d1d9-a27b-4222-9807-7112cb7ac231",
   "metadata": {},
   "outputs": [],
   "source": []
  }
 ],
 "metadata": {
  "kernelspec": {
   "display_name": "Python 3 (ipykernel)",
   "language": "python",
   "name": "python3"
  },
  "language_info": {
   "codemirror_mode": {
    "name": "ipython",
    "version": 3
   },
   "file_extension": ".py",
   "mimetype": "text/x-python",
   "name": "python",
   "nbconvert_exporter": "python",
   "pygments_lexer": "ipython3",
   "version": "3.8.17"
  }
 },
 "nbformat": 4,
 "nbformat_minor": 5
}
