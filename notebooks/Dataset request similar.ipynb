{
 "cells": [
  {
   "cell_type": "code",
   "execution_count": 1,
   "id": "b98f9c4d",
   "metadata": {},
   "outputs": [],
   "source": [
    "import os\n",
    "from pathlib import Path\n",
    "from PIL import Image\n",
    "from tqdm.notebook import tqdm\n",
    "from imantics import Polygons, Mask, Category, Annotation\n",
    "from IPython.display import Image"
   ]
  },
  {
   "cell_type": "code",
   "execution_count": 2,
   "id": "50877265",
   "metadata": {},
   "outputs": [],
   "source": [
    "from datalake.searcher import Searcher\n",
    "from datalake.credentials import load_credentials, save_credentials"
   ]
  },
  {
   "cell_type": "code",
   "execution_count": 3,
   "id": "c445d82a",
   "metadata": {},
   "outputs": [],
   "source": [
    "searcher = Searcher(**load_credentials())"
   ]
  },
  {
   "cell_type": "code",
   "execution_count": 4,
   "id": "978f1e2d",
   "metadata": {},
   "outputs": [],
   "source": [
    "datasets = searcher.dataset_list()"
   ]
  },
  {
   "cell_type": "code",
   "execution_count": 19,
   "id": "c0b80c90",
   "metadata": {},
   "outputs": [
    {
     "data": {
      "text/plain": [
       "Dataset#prequel-text-filter-59e87f(images=1994, annotations=1994, public=False, indexed=1994)"
      ]
     },
     "execution_count": 19,
     "metadata": {},
     "output_type": "execute_result"
    }
   ],
   "source": [
    "dataset = datasets[-3]\n",
    "dataset"
   ]
  },
  {
   "cell_type": "markdown",
   "id": "7c66dd5d",
   "metadata": {},
   "source": [
    "# Searching withing one dataset"
   ]
  },
  {
   "cell_type": "code",
   "execution_count": 20,
   "id": "2d5d6328",
   "metadata": {},
   "outputs": [],
   "source": [
    "request = dataset.search(\"big eyes\")"
   ]
  },
  {
   "cell_type": "code",
   "execution_count": 21,
   "id": "23188aaf",
   "metadata": {},
   "outputs": [
    {
     "name": "stdout",
     "output_type": "stream",
     "text": [
      "{'_id': '64f519efbdce1305a7b38d46', 'annotations': [], 'feas_index': 26533, 'image_url': 'https://images.unsplash.com/photo-1587094486265-7efbce4cccce', 'score': 0.2624891996383667}\n"
     ]
    },
    {
     "data": {
      "text/html": [
       "<img src=\"https://images.unsplash.com/photo-1587094486265-7efbce4cccce\" width=\"220\" height=\"320\"/>"
      ],
      "text/plain": [
       "<IPython.core.display.Image object>"
      ]
     },
     "execution_count": 21,
     "metadata": {},
     "output_type": "execute_result"
    }
   ],
   "source": [
    "obj = request.retrieve()[0]\n",
    "print(obj)\n",
    "\n",
    "Image(url=obj[\"image_url\"], height=320, width=220)"
   ]
  },
  {
   "cell_type": "markdown",
   "id": "344c9d1b",
   "metadata": {},
   "source": [
    "# Searching in public datasets"
   ]
  },
  {
   "cell_type": "code",
   "execution_count": 23,
   "id": "27a8830c",
   "metadata": {},
   "outputs": [],
   "source": [
    "similar_request = request.similar([0])"
   ]
  },
  {
   "cell_type": "code",
   "execution_count": 27,
   "id": "e0c91577",
   "metadata": {},
   "outputs": [
    {
     "name": "stdout",
     "output_type": "stream",
     "text": [
      "{'_id': '64f51d24bdce1305a7b79fcc', 'annotations': [], 'feas_index': 26825, 'image_url': 'https://images.unsplash.com/photo-1592644584727-5013bc7afa29', 'score': 0.5355095267295837}\n"
     ]
    },
    {
     "data": {
      "text/html": [
       "<img src=\"https://images.unsplash.com/photo-1592644584727-5013bc7afa29\" width=\"220\" height=\"320\"/>"
      ],
      "text/plain": [
       "<IPython.core.display.Image object>"
      ]
     },
     "execution_count": 27,
     "metadata": {},
     "output_type": "execute_result"
    }
   ],
   "source": [
    "obj = similar_request.retrieve()[2]\n",
    "print(obj)\n",
    "\n",
    "Image(url=obj[\"image_url\"], height=320, width=220)"
   ]
  },
  {
   "cell_type": "markdown",
   "id": "14d15bac",
   "metadata": {},
   "source": [
    "# This photo is taken from our own database"
   ]
  },
  {
   "cell_type": "code",
   "execution_count": null,
   "id": "6be5532e",
   "metadata": {},
   "outputs": [],
   "source": []
  }
 ],
 "metadata": {
  "kernelspec": {
   "display_name": "Python 3 (ipykernel)",
   "language": "python",
   "name": "python3"
  },
  "language_info": {
   "codemirror_mode": {
    "name": "ipython",
    "version": 3
   },
   "file_extension": ".py",
   "mimetype": "text/x-python",
   "name": "python",
   "nbconvert_exporter": "python",
   "pygments_lexer": "ipython3",
   "version": "3.7.13"
  }
 },
 "nbformat": 4,
 "nbformat_minor": 5
}
