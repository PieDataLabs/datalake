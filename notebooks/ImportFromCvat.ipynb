{
 "cells": [
  {
   "cell_type": "code",
   "execution_count": 1,
   "id": "4c577a07-17a1-4ed2-b18e-6697cd288682",
   "metadata": {},
   "outputs": [],
   "source": [
    "import os\n",
    "from pathlib import Path\n",
    "import zipfile\n",
    "import io\n",
    "from xml.etree.ElementTree import parse\n",
    "from imantics import Annotation, Category, BBox, Polygons"
   ]
  },
  {
   "cell_type": "code",
   "execution_count": 2,
   "id": "1935de39-8061-43d2-a3f0-a1462670d8f8",
   "metadata": {},
   "outputs": [],
   "source": [
    "path = Path(\"../../Downloads/tryfit_outline.zip\")"
   ]
  },
  {
   "cell_type": "code",
   "execution_count": 9,
   "id": "4443ef60-b25e-4b04-b2a6-cc736f1e10ff",
   "metadata": {},
   "outputs": [],
   "source": [
    "from datalake import Searcher, load_credentials, Dataset"
   ]
  },
  {
   "cell_type": "code",
   "execution_count": 10,
   "id": "1535e87e-f703-435f-9260-98a57e73ddce",
   "metadata": {},
   "outputs": [],
   "source": [
    "searcher = Searcher(**load_credentials())"
   ]
  },
  {
   "cell_type": "code",
   "execution_count": 14,
   "id": "1d712972-9c9f-4617-a2b9-5d09400a0850",
   "metadata": {},
   "outputs": [
    {
     "data": {
      "text/plain": [
       "Dataset#tryfit_outline-f27834(images=0, annotations=0, public=False, indexed=0)"
      ]
     },
     "execution_count": 14,
     "metadata": {},
     "output_type": "execute_result"
    }
   ],
   "source": [
    "# ds = Dataset.new(searcher, \"manot-road-trees-test\")\n",
    "ds = searcher.dataset_list(prefix=\"tryfit\")[0]\n",
    "ds"
   ]
  },
  {
   "cell_type": "code",
   "execution_count": null,
   "id": "90de03e4-c2f8-4f7a-a4e2-ca3265cd0efc",
   "metadata": {},
   "outputs": [
    {
     "name": "stderr",
     "output_type": "stream",
     "text": [
      "100%|████████████████████████████████████████████████████████████████████████████████████████████████████████████████████████████████| 1134/1134 [00:00<00:00, 3874.29it/s]\n",
      "  8%|█████████▉                                                                                                                          | 85/1132 [01:04<13:07,  1.33it/s]"
     ]
    }
   ],
   "source": [
    "ds.import_from(Path('/Users/georgijkasparanc/Downloads/tryfit_outline.zip'))"
   ]
  },
  {
   "cell_type": "code",
   "execution_count": null,
   "id": "37295e87-2262-43fa-9554-237deb6790f0",
   "metadata": {},
   "outputs": [],
   "source": []
  },
  {
   "cell_type": "code",
   "execution_count": null,
   "id": "e69d3530-f4c1-402f-aa28-49a30833d65b",
   "metadata": {},
   "outputs": [],
   "source": []
  },
  {
   "cell_type": "code",
   "execution_count": null,
   "id": "a097a10a-f149-4f71-bd7e-d102ec1a3241",
   "metadata": {},
   "outputs": [],
   "source": []
  },
  {
   "cell_type": "code",
   "execution_count": null,
   "id": "56152966-de67-49a6-bd2e-c880bf330483",
   "metadata": {},
   "outputs": [],
   "source": []
  },
  {
   "cell_type": "code",
   "execution_count": null,
   "id": "17cf1a49-4abc-4776-b52c-3f058985c419",
   "metadata": {},
   "outputs": [],
   "source": []
  }
 ],
 "metadata": {
  "kernelspec": {
   "display_name": "Python 3 (ipykernel)",
   "language": "python",
   "name": "python3"
  },
  "language_info": {
   "codemirror_mode": {
    "name": "ipython",
    "version": 3
   },
   "file_extension": ".py",
   "mimetype": "text/x-python",
   "name": "python",
   "nbconvert_exporter": "python",
   "pygments_lexer": "ipython3",
   "version": "3.8.17"
  }
 },
 "nbformat": 4,
 "nbformat_minor": 5
}
