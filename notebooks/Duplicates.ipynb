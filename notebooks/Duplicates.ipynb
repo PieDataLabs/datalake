{
 "cells": [
  {
   "cell_type": "code",
   "execution_count": 1,
   "id": "40fde887-e550-45f6-8a14-935c3ebb6dde",
   "metadata": {},
   "outputs": [],
   "source": [
    "import os\n",
    "from pathlib import Path\n",
    "from PIL import Image\n",
    "from tqdm.notebook import tqdm\n",
    "from imantics import Polygons, Mask, Category, Annotation\n",
    "from IPython.display import Image"
   ]
  },
  {
   "cell_type": "code",
   "execution_count": 2,
   "id": "72e157a6-ae0d-4da3-b4a7-058a1f4c64bd",
   "metadata": {},
   "outputs": [],
   "source": [
    "from datalake.searcher import Searcher\n",
    "from datalake.dataset import Dataset\n",
    "from datalake.utils import from_url\n",
    "from datalake.credentials import load_credentials, save_credentials"
   ]
  },
  {
   "cell_type": "code",
   "execution_count": 3,
   "id": "98509dbf-ee3b-496c-84e5-88975ce63b0b",
   "metadata": {},
   "outputs": [],
   "source": [
    "searcher = Searcher(**load_credentials())"
   ]
  },
  {
   "cell_type": "code",
   "execution_count": 4,
   "id": "7bb5c450-0a7c-457f-a527-9d0c3b2cfd6a",
   "metadata": {},
   "outputs": [],
   "source": [
    "datasets = searcher.dataset_list(prefix=None)"
   ]
  },
  {
   "cell_type": "code",
   "execution_count": 5,
   "id": "4e7d24cf-da43-4386-8b5c-cfed2e358dfe",
   "metadata": {},
   "outputs": [
    {
     "data": {
      "text/plain": [
       "Dataset#no_name-25354e(images=5, annotations=0, public=False, indexed=5)"
      ]
     },
     "execution_count": 5,
     "metadata": {},
     "output_type": "execute_result"
    }
   ],
   "source": [
    "# ds = Dataset.new(searcher)\n",
    "ds = datasets[-1]\n",
    "ds"
   ]
  },
  {
   "cell_type": "code",
   "execution_count": 6,
   "id": "496310c1-c989-468b-b719-362756b58bb9",
   "metadata": {},
   "outputs": [],
   "source": [
    "cat_url = \"https://t4.ftcdn.net/jpg/00/97/58/97/360_F_97589769_t45CqXyzjz0KXwoBZT9PRaWGHRk5hQqQ.jpg\"\n",
    "dog_url = \"https://images.rawpixel.com/image_800/cHJpdmF0ZS9sci9pbWFnZXMvd2Vic2l0ZS8yMDIzLTA4L3Jhd3BpeGVsX29mZmljZV8yNF9pbGx1c3RyYXRpb25fb2ZfYV9sYWJyYWRvcl9mdWxsX2JvZHlfc2l0dGluZ19kN2E1NjhkMS01MTBjLTRjMjktYTRmNS04YzExYTNlYmJkOTZfMS5qcGc.jpg\"\n"
   ]
  },
  {
   "cell_type": "code",
   "execution_count": 7,
   "id": "342631bb-068a-4bda-a32a-a81be68c6f70",
   "metadata": {},
   "outputs": [],
   "source": [
    "cat = from_url(cat_url)\n",
    "dog = from_url(dog_url)"
   ]
  },
  {
   "cell_type": "code",
   "execution_count": 33,
   "id": "fa410569-16d8-4f2d-bd59-9ee85a3fb26d",
   "metadata": {},
   "outputs": [],
   "source": [
    "ds.add_image(cat)\n",
    "ds.add_image(cat.rotate(10))\n",
    "ds.add_image(cat.rotate(20))\n",
    "ds.add_image(dog.rotate(10))\n",
    "ds.add_image(dog.rotate(30))"
   ]
  },
  {
   "cell_type": "code",
   "execution_count": 8,
   "id": "0c22ee3c-7f3d-4161-a143-e4d05daaa970",
   "metadata": {},
   "outputs": [
    {
     "name": "stderr",
     "output_type": "stream",
     "text": [
      " 80%|████████████████████████████████████████████████████████████████████████████████████████████████████████████                           | 4/5 [00:28<00:07,  7.14s/it]\n"
     ]
    }
   ],
   "source": [
    "groups = ds.duplicates(th=0.9, batch_size=2)"
   ]
  },
  {
   "cell_type": "code",
   "execution_count": 9,
   "id": "8f269447-18db-4f3c-84bf-1d9bc1f0668b",
   "metadata": {},
   "outputs": [
    {
     "data": {
      "text/plain": [
       "{frozenset({'https://datalake-piedata.s3.us-west-1.amazonaws.com/2c5de8886959aa27f619efa3d607ba59',\n",
       "            'https://datalake-piedata.s3.us-west-1.amazonaws.com/e9effa55b3a74e0ef9d6fd5ba7b60d8c'}),\n",
       " frozenset({'https://datalake-piedata.s3.us-west-1.amazonaws.com/3003d9525e017885ede55ab84bb33e9b',\n",
       "            'https://datalake-piedata.s3.us-west-1.amazonaws.com/bf3724b8d497f53d2db6f7fd7ed5b378',\n",
       "            'https://datalake-piedata.s3.us-west-1.amazonaws.com/c5a8af1e0828061374851831e78e13b1'})}"
      ]
     },
     "execution_count": 9,
     "metadata": {},
     "output_type": "execute_result"
    }
   ],
   "source": [
    "groups"
   ]
  },
  {
   "cell_type": "markdown",
   "id": "2bf5d83c-5354-4ebc-ac79-7808e86659c1",
   "metadata": {},
   "source": [
    "# Three cats, two dogs "
   ]
  },
  {
   "cell_type": "code",
   "execution_count": null,
   "id": "f4ff0590-9186-403b-bc01-331cd3eee407",
   "metadata": {},
   "outputs": [],
   "source": []
  }
 ],
 "metadata": {
  "kernelspec": {
   "display_name": "Python 3 (ipykernel)",
   "language": "python",
   "name": "python3"
  },
  "language_info": {
   "codemirror_mode": {
    "name": "ipython",
    "version": 3
   },
   "file_extension": ".py",
   "mimetype": "text/x-python",
   "name": "python",
   "nbconvert_exporter": "python",
   "pygments_lexer": "ipython3",
   "version": "3.8.17"
  }
 },
 "nbformat": 4,
 "nbformat_minor": 5
}
