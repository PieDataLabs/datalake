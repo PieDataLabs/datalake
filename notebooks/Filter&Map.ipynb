{
 "cells": [
  {
   "cell_type": "code",
   "execution_count": 1,
   "id": "54375b75-a1af-4ca2-a8b2-4e2787f02c2d",
   "metadata": {},
   "outputs": [],
   "source": [
    "import os\n",
    "from pathlib import Path\n",
    "from PIL import Image\n",
    "from tqdm.notebook import tqdm\n",
    "from imantics import Polygons, Mask, Category, Annotation\n",
    "from IPython.display import Image"
   ]
  },
  {
   "cell_type": "code",
   "execution_count": 2,
   "id": "d6c1fee4-3590-4bb3-9ef1-8f0e3074b80f",
   "metadata": {},
   "outputs": [],
   "source": [
    "from datalake.searcher import Searcher\n",
    "from datalake.dataset import Dataset\n",
    "from datalake.credentials import load_credentials, save_credentials"
   ]
  },
  {
   "cell_type": "code",
   "execution_count": 3,
   "id": "e3738149-95c5-4c90-982b-8df261a604a8",
   "metadata": {},
   "outputs": [],
   "source": [
    "searcher = Searcher(**load_credentials())"
   ]
  },
  {
   "cell_type": "code",
   "execution_count": 4,
   "id": "3dd278a5-ddd4-4729-ae46-86bab2be46d2",
   "metadata": {},
   "outputs": [
    {
     "data": {
      "text/plain": [
       "Dataset#animals-a61ea6(images=5044, annotations=5045, public=True, indexed=2664)"
      ]
     },
     "execution_count": 4,
     "metadata": {},
     "output_type": "execute_result"
    }
   ],
   "source": [
    "animals_ds = searcher.dataset_list(prefix=\"animals\")[0]\n",
    "animals_ds"
   ]
  },
  {
   "cell_type": "code",
   "execution_count": 5,
   "id": "7e9165b5-6617-404a-8fdd-580028387735",
   "metadata": {},
   "outputs": [
    {
     "name": "stderr",
     "output_type": "stream",
     "text": [
      "100%|█████████████████████████████████████████████████████████████████████████████████████████████████████████████████████████████████▉| 5043/5044 [02:04<00:00, 40.66it/s]\n"
     ]
    }
   ],
   "source": [
    "antelope_ds = animals_ds.filter(lambda obj: obj[\"annotations\"][0][\"name\"] == \"antelope\",\n",
    "                                \"antelope\")"
   ]
  },
  {
   "cell_type": "code",
   "execution_count": 7,
   "id": "294b1a72-8010-4e28-b231-b06b18075b3f",
   "metadata": {},
   "outputs": [
    {
     "data": {
      "text/html": [
       "<img src=\"https://datalake-piedata.s3.us-west-1.amazonaws.com/cfced1aab42244cd8caf1dc953c96aec\"/>"
      ],
      "text/plain": [
       "<IPython.core.display.Image object>"
      ]
     },
     "execution_count": 7,
     "metadata": {},
     "output_type": "execute_result"
    }
   ],
   "source": [
    "Image(url=antelope_ds[0]['image_url'])"
   ]
  },
  {
   "cell_type": "code",
   "execution_count": null,
   "id": "26eb67be-fe1a-4716-a931-1abf44174bcc",
   "metadata": {},
   "outputs": [],
   "source": []
  }
 ],
 "metadata": {
  "kernelspec": {
   "display_name": "Python 3 (ipykernel)",
   "language": "python",
   "name": "python3"
  },
  "language_info": {
   "codemirror_mode": {
    "name": "ipython",
    "version": 3
   },
   "file_extension": ".py",
   "mimetype": "text/x-python",
   "name": "python",
   "nbconvert_exporter": "python",
   "pygments_lexer": "ipython3",
   "version": "3.8.17"
  }
 },
 "nbformat": 4,
 "nbformat_minor": 5
}
