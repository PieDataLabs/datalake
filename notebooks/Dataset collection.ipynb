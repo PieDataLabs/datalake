{
 "cells": [
  {
   "cell_type": "code",
   "execution_count": 1,
   "id": "4a15501a-853f-4f75-9ee8-7732013e19da",
   "metadata": {},
   "outputs": [],
   "source": [
    "import os\n",
    "from pathlib import Path\n",
    "from PIL import Image\n",
    "from tqdm.notebook import tqdm\n",
    "from imantics import Polygons, Mask, Category, Annotation\n",
    "from IPython.display import Image"
   ]
  },
  {
   "cell_type": "code",
   "execution_count": 6,
   "id": "1984d4d2-1c2c-4ed8-b0ce-680c45c0a797",
   "metadata": {},
   "outputs": [],
   "source": [
    "from datalake.searcher import Searcher\n",
    "from datalake.dataset import Dataset\n",
    "from datalake.credentials import load_credentials, save_credentials"
   ]
  },
  {
   "cell_type": "code",
   "execution_count": 3,
   "id": "608b103a-93b8-4acb-bf06-135a4f8b9f02",
   "metadata": {},
   "outputs": [],
   "source": [
    "searcher = Searcher(**load_credentials())"
   ]
  },
  {
   "cell_type": "code",
   "execution_count": 14,
   "id": "93c3886e-009b-491b-b9df-3667842c5c12",
   "metadata": {},
   "outputs": [],
   "source": [
    "ds = searcher.dataset_list()[-1]"
   ]
  },
  {
   "cell_type": "code",
   "execution_count": 27,
   "id": "3ccfead3-7d20-4c36-9f16-1b1e9b959e97",
   "metadata": {},
   "outputs": [
    {
     "data": {
      "text/plain": [
       "Dataset#cats-993f1b(images=9936, annotations=0, public=True, indexed=9936)"
      ]
     },
     "execution_count": 27,
     "metadata": {},
     "output_type": "execute_result"
    }
   ],
   "source": [
    "ds"
   ]
  },
  {
   "cell_type": "code",
   "execution_count": 22,
   "id": "ec684200-9f4b-45ec-bf30-72bb5faf267a",
   "metadata": {},
   "outputs": [],
   "source": [
    "dog_url = \"https://thumbs.dreamstime.com/b/golden-retriever-dog-sitting-isolated-white-24750809.jpg\"\n",
    "cat_url = \"https://images.unsplash.com/photo-1608848461950-0fe51dfc41cb?ixlib=rb-4.0.3&ixid=M3wxMjA3fDB8MHxleHBsb3JlLWZlZWR8Mnx8fGVufDB8fHx8fA%3D%3D&w=1000&q=80\"\n",
    "\n"
   ]
  },
  {
   "cell_type": "code",
   "execution_count": 23,
   "id": "0087ab5f-09be-45bd-849f-bbd8dea71e5d",
   "metadata": {},
   "outputs": [
    {
     "data": {
      "text/plain": [
       "{'image_url': 'https://datalake-piedata.s3.us-west-1.amazonaws.com/4fd345c8e895250c7d0d4da05a0c03c1',\n",
       " 'score': 0.9398107528686523}"
      ]
     },
     "execution_count": 23,
     "metadata": {},
     "output_type": "execute_result"
    }
   ],
   "source": [
    "nearest = ds.nearest(cat_url)\n",
    "nearest"
   ]
  },
  {
   "cell_type": "code",
   "execution_count": 24,
   "id": "78736601-e020-4869-8d4f-7ed302b36ab4",
   "metadata": {},
   "outputs": [
    {
     "data": {
      "text/html": [
       "<img src=\"https://datalake-piedata.s3.us-west-1.amazonaws.com/4fd345c8e895250c7d0d4da05a0c03c1\"/>"
      ],
      "text/plain": [
       "<IPython.core.display.Image object>"
      ]
     },
     "execution_count": 24,
     "metadata": {},
     "output_type": "execute_result"
    }
   ],
   "source": [
    "Image(url=nearest['image_url'])"
   ]
  },
  {
   "cell_type": "code",
   "execution_count": 25,
   "id": "ef696928-76ab-4042-8a00-c1ddd95c878b",
   "metadata": {},
   "outputs": [
    {
     "data": {
      "text/plain": [
       "{'image_url': 'https://datalake-piedata.s3.us-west-1.amazonaws.com/3ba13a541ea8a7cfd46dcee8ba2edaf0',\n",
       " 'score': 0.8093802332878113}"
      ]
     },
     "execution_count": 25,
     "metadata": {},
     "output_type": "execute_result"
    }
   ],
   "source": [
    "nearest = ds.nearest(dog_url)\n",
    "nearest"
   ]
  },
  {
   "cell_type": "code",
   "execution_count": 26,
   "id": "7bedf6e8-40ce-4512-a24a-da3e83227355",
   "metadata": {},
   "outputs": [
    {
     "data": {
      "text/html": [
       "<img src=\"https://datalake-piedata.s3.us-west-1.amazonaws.com/3ba13a541ea8a7cfd46dcee8ba2edaf0\"/>"
      ],
      "text/plain": [
       "<IPython.core.display.Image object>"
      ]
     },
     "execution_count": 26,
     "metadata": {},
     "output_type": "execute_result"
    }
   ],
   "source": [
    "Image(url=nearest['image_url'])"
   ]
  },
  {
   "cell_type": "markdown",
   "id": "42d4016e-a0bc-42fb-abe4-3d1acd159558",
   "metadata": {},
   "source": [
    "You can filter based on score images when adding them to dataset"
   ]
  },
  {
   "cell_type": "code",
   "execution_count": null,
   "id": "4243cba9-9112-4e6e-b303-52b67ae122dd",
   "metadata": {},
   "outputs": [],
   "source": []
  }
 ],
 "metadata": {
  "kernelspec": {
   "display_name": "Python 3 (ipykernel)",
   "language": "python",
   "name": "python3"
  },
  "language_info": {
   "codemirror_mode": {
    "name": "ipython",
    "version": 3
   },
   "file_extension": ".py",
   "mimetype": "text/x-python",
   "name": "python",
   "nbconvert_exporter": "python",
   "pygments_lexer": "ipython3",
   "version": "3.8.17"
  }
 },
 "nbformat": 4,
 "nbformat_minor": 5
}
