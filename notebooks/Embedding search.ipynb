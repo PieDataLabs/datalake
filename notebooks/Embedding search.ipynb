{
 "cells": [
  {
   "cell_type": "code",
   "execution_count": 9,
   "id": "9737df78",
   "metadata": {},
   "outputs": [],
   "source": [
    "import os\n",
    "import sys\n",
    "from pathlib import Path\n",
    "from PIL import Image\n",
    "from tqdm.notebook import tqdm\n",
    "from imantics import Polygons, Mask, Category, Annotation\n",
    "from IPython.display import Image\n",
    "import numpy as np"
   ]
  },
  {
   "cell_type": "code",
   "execution_count": 3,
   "id": "3de20510",
   "metadata": {},
   "outputs": [],
   "source": [
    "from datalake.searcher import Searcher\n",
    "from datalake.credentials import load_credentials, save_credentials"
   ]
  },
  {
   "cell_type": "code",
   "execution_count": 4,
   "id": "a029c9aa",
   "metadata": {},
   "outputs": [],
   "source": [
    "searcher = Searcher(**load_credentials())"
   ]
  },
  {
   "cell_type": "code",
   "execution_count": 5,
   "id": "c87da98c",
   "metadata": {},
   "outputs": [],
   "source": [
    "datasets = searcher.dataset_list()"
   ]
  },
  {
   "cell_type": "code",
   "execution_count": 7,
   "id": "f7b9a83e",
   "metadata": {},
   "outputs": [
    {
     "data": {
      "text/plain": [
       "Dataset#Prequel-test-set-9c7f6c(images=9871, annotations=10018, public=True, indexed=9867)"
      ]
     },
     "execution_count": 7,
     "metadata": {},
     "output_type": "execute_result"
    }
   ],
   "source": [
    "dataset = datasets[0]\n",
    "dataset"
   ]
  },
  {
   "cell_type": "code",
   "execution_count": 11,
   "id": "bebeab47",
   "metadata": {},
   "outputs": [],
   "source": [
    "request = dataset.deepsearch(np.random.randn(512))"
   ]
  },
  {
   "cell_type": "code",
   "execution_count": 12,
   "id": "c868da4c",
   "metadata": {},
   "outputs": [
    {
     "name": "stdout",
     "output_type": "stream",
     "text": [
      "{'_id': '64f4b66bbdce1305a7f493e8', 'annotations': [], 'feas_index': 613, 'image_url': 'https://cdna.artstation.com/p/assets/images/images/019/888/538/20210729064551/smaller_square/julia-pimenova-1232.jpg?1627559152', 'score': 3.6619410514831543}\n"
     ]
    },
    {
     "data": {
      "text/html": [
       "<img src=\"https://cdna.artstation.com/p/assets/images/images/019/888/538/20210729064551/smaller_square/julia-pimenova-1232.jpg?1627559152\" width=\"220\" height=\"320\"/>"
      ],
      "text/plain": [
       "<IPython.core.display.Image object>"
      ]
     },
     "execution_count": 12,
     "metadata": {},
     "output_type": "execute_result"
    }
   ],
   "source": [
    "obj = request.retrieve()[0]\n",
    "print(obj)\n",
    "\n",
    "Image(url=obj[\"image_url\"], height=320, width=220)"
   ]
  },
  {
   "cell_type": "code",
   "execution_count": null,
   "id": "0f083cd8",
   "metadata": {},
   "outputs": [],
   "source": []
  },
  {
   "cell_type": "code",
   "execution_count": null,
   "id": "0aa828bf",
   "metadata": {},
   "outputs": [],
   "source": []
  },
  {
   "cell_type": "code",
   "execution_count": null,
   "id": "b1ace5a3",
   "metadata": {},
   "outputs": [],
   "source": []
  }
 ],
 "metadata": {
  "kernelspec": {
   "display_name": "Python 3 (ipykernel)",
   "language": "python",
   "name": "python3"
  },
  "language_info": {
   "codemirror_mode": {
    "name": "ipython",
    "version": 3
   },
   "file_extension": ".py",
   "mimetype": "text/x-python",
   "name": "python",
   "nbconvert_exporter": "python",
   "pygments_lexer": "ipython3",
   "version": "3.7.13"
  }
 },
 "nbformat": 4,
 "nbformat_minor": 5
}
