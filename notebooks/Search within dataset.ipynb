{
 "cells": [
  {
   "cell_type": "code",
   "execution_count": 2,
   "id": "2a59a68c",
   "metadata": {},
   "outputs": [],
   "source": [
    "import os\n",
    "from pathlib import Path\n",
    "from PIL import Image\n",
    "from tqdm.notebook import tqdm\n",
    "from imantics import Polygons, Mask, Category, Annotation\n",
    "from IPython.display import Image"
   ]
  },
  {
   "cell_type": "code",
   "execution_count": 3,
   "id": "caa0fd9a",
   "metadata": {},
   "outputs": [],
   "source": [
    "from datalake.searcher import Searcher\n",
    "from datalake.credentials import load_credentials, save_credentials"
   ]
  },
  {
   "cell_type": "code",
   "execution_count": 4,
   "id": "a4e0cf2e",
   "metadata": {},
   "outputs": [],
   "source": [
    "searcher = Searcher(**load_credentials())"
   ]
  },
  {
   "cell_type": "code",
   "execution_count": 5,
   "id": "1e5d9851",
   "metadata": {},
   "outputs": [],
   "source": [
    "datasets = searcher.dataset_list()"
   ]
  },
  {
   "cell_type": "code",
   "execution_count": 9,
   "id": "4715425b",
   "metadata": {},
   "outputs": [
    {
     "data": {
      "text/plain": [
       "Dataset#feet_with_sheet-064a17(images=10906, annotations=22496, public=False, indexed=10906)"
      ]
     },
     "execution_count": 9,
     "metadata": {},
     "output_type": "execute_result"
    }
   ],
   "source": [
    "dataset = datasets[-1]\n",
    "dataset"
   ]
  },
  {
   "cell_type": "code",
   "execution_count": 10,
   "id": "7eb50ce4",
   "metadata": {},
   "outputs": [],
   "source": [
    "request = dataset.search(\"sock\")"
   ]
  },
  {
   "cell_type": "code",
   "execution_count": 13,
   "id": "a256b29d",
   "metadata": {},
   "outputs": [
    {
     "name": "stdout",
     "output_type": "stream",
     "text": [
      "{'_id': '64f4d6f3bdce1305a75a4986', 'annotations': [], 'feas_index': 18809, 'image_url': 'https://datalake-piedata.s3.us-west-1.amazonaws.com/d25b17a6becb3e5a477f1acaf456aea1', 'score': 0.32716089487075806}\n"
     ]
    },
    {
     "data": {
      "text/html": [
       "<img src=\"https://datalake-piedata.s3.us-west-1.amazonaws.com/d25b17a6becb3e5a477f1acaf456aea1\" width=\"220\" height=\"320\"/>"
      ],
      "text/plain": [
       "<IPython.core.display.Image object>"
      ]
     },
     "execution_count": 13,
     "metadata": {},
     "output_type": "execute_result"
    }
   ],
   "source": [
    "obj = request.retrieve()[0]\n",
    "print(obj)\n",
    "\n",
    "Image(url=obj[\"image_url\"], height=320, width=220)"
   ]
  },
  {
   "cell_type": "code",
   "execution_count": 14,
   "id": "766738a5",
   "metadata": {},
   "outputs": [],
   "source": [
    "request = dataset.search(\"naked foot\")"
   ]
  },
  {
   "cell_type": "code",
   "execution_count": 15,
   "id": "3e7ce899",
   "metadata": {},
   "outputs": [
    {
     "name": "stdout",
     "output_type": "stream",
     "text": [
      "{'_id': '64f4d281bdce1305a74f3e58', 'annotations': [], 'feas_index': 17051, 'image_url': 'https://datalake-piedata.s3.us-west-1.amazonaws.com/a812f47039b4224ed966e52abfce18e4', 'score': 0.33510708808898926}\n"
     ]
    },
    {
     "data": {
      "text/html": [
       "<img src=\"https://datalake-piedata.s3.us-west-1.amazonaws.com/a812f47039b4224ed966e52abfce18e4\" width=\"220\" height=\"320\"/>"
      ],
      "text/plain": [
       "<IPython.core.display.Image object>"
      ]
     },
     "execution_count": 15,
     "metadata": {},
     "output_type": "execute_result"
    }
   ],
   "source": [
    "obj = request.retrieve()[0]\n",
    "print(obj)\n",
    "\n",
    "Image(url=obj[\"image_url\"], height=320, width=220)"
   ]
  },
  {
   "cell_type": "code",
   "execution_count": 17,
   "id": "57acb9cc",
   "metadata": {},
   "outputs": [],
   "source": [
    "request = dataset.search(\"jeans\")"
   ]
  },
  {
   "cell_type": "code",
   "execution_count": 20,
   "id": "eb4eb44d",
   "metadata": {},
   "outputs": [
    {
     "name": "stdout",
     "output_type": "stream",
     "text": [
      "{'_id': '64f4c613bdce1305a72f0cfc', 'annotations': [], 'feas_index': 11492, 'image_url': 'https://datalake-piedata.s3.us-west-1.amazonaws.com/26c1c6200389efffe081967f70ad247c', 'score': 0.33080464601516724}\n"
     ]
    },
    {
     "data": {
      "text/html": [
       "<img src=\"https://datalake-piedata.s3.us-west-1.amazonaws.com/26c1c6200389efffe081967f70ad247c\" width=\"220\" height=\"320\"/>"
      ],
      "text/plain": [
       "<IPython.core.display.Image object>"
      ]
     },
     "execution_count": 20,
     "metadata": {},
     "output_type": "execute_result"
    }
   ],
   "source": [
    "obj = request.retrieve()[0]\n",
    "print(obj)\n",
    "\n",
    "Image(url=obj[\"image_url\"], height=320, width=220)"
   ]
  },
  {
   "cell_type": "code",
   "execution_count": null,
   "id": "67d3bee0",
   "metadata": {},
   "outputs": [],
   "source": []
  }
 ],
 "metadata": {
  "kernelspec": {
   "display_name": "Python 3 (ipykernel)",
   "language": "python",
   "name": "python3"
  },
  "language_info": {
   "codemirror_mode": {
    "name": "ipython",
    "version": 3
   },
   "file_extension": ".py",
   "mimetype": "text/x-python",
   "name": "python",
   "nbconvert_exporter": "python",
   "pygments_lexer": "ipython3",
   "version": "3.8.17"
  }
 },
 "nbformat": 4,
 "nbformat_minor": 5
}
